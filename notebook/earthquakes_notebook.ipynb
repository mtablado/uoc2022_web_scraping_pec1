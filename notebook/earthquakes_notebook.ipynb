{
 "cells": [
  {
   "cell_type": "markdown",
   "metadata": {
    "id": "YO1mZRrP4FT2"
   },
   "source": [
    "<div style=\"width: 100%; clear: both;\">\n",
    "<div style=\"float: left; width: 50%;\">\n",
    "<img src=\"http://www.uoc.edu/portal/_resources/common/imatges/marca_UOC/UOC_Masterbrand.jpg\", align=\"left\">\n",
    "</div>\n",
    "<div style=\"float: right; width: 50%;\">\n",
    "<p style=\"margin: 0; padding-top: 22px; text-align:right;\">Tipología y ciclo de vida de datos: Práctica 1</p>\n",
    "<p style=\"margin: 0; text-align:right;\">2021-2 · Máster universitario en Ciencia de datos (Data science)</p>\n",
    "<p style=\"margin: 0; text-align:right; padding-button: 100px;\">Estudios de Informática, Multimedia y Telecomunicación</p>\n",
    "</div>\n",
    "</div>\n",
    "<div style=\"width:100%;\">&nbsp;</div>\n",
    "\n",
    "\n",
    "# Práctica 1\n"
   ]
  },
  {
   "cell_type": "markdown",
   "metadata": {
    "id": "M35X9fQv4dUv"
   },
   "source": [
    "## Carga de librerías"
   ]
  },
  {
   "cell_type": "markdown",
   "metadata": {
    "id": "GtU00Tcg-KHd"
   },
   "source": [
    "El siguiente código carga los paquetes necesarios para la práctica y lee el fichero de datos que usaremos."
   ]
  },
  {
   "cell_type": "code",
   "execution_count": 2,
   "metadata": {
    "id": "19ixS6Vp-KHd"
   },
   "outputs": [],
   "source": [
    "import pandas as pd\n",
    "import numpy as np"
   ]
  },
  {
   "cell_type": "code",
   "execution_count": 8,
   "metadata": {
    "id": "oAEbN2Xc-KHe"
   },
   "outputs": [],
   "source": [
    "df = pd.read_csv(\"../csv/dataset.csv\", delimiter=\";\") #change path if needed"
   ]
  },
  {
   "cell_type": "markdown",
   "metadata": {
    "id": "v4uy3S_l4uMK"
   },
   "source": [
    "## Contexto\n",
    "\n",
    "He recogido la información de la página web [USGS - Earthquake Hazard Program](https://earthquake.usgs.gov/)\n",
    "\n",
    "Este sitio web es un sitio que publica información acerca de los terremotos y los ubica en un mapa interactivo. Para acceder al mapa, se debe visitar el siguiente enlace: https://earthquake.usgs.gov/earthquakes/map/?extent=-89.58992,-357.1875&extent=89.58992,717.1875&range=search&listOnlyShown=true&baseLayer=terrain&timeZone=utc&search=%7B%22name%22:%22Search%20Results%22,%22params%22:%7B%22starttime%22:%221900-01-01%2000:00:00%22,%22minmagnitude%22:7,%22orderby%22:%22time%22%7D%7D\n",
    "\n",
    "Para mis tareas de web scrapping, he llevado a cabo las siguiente comprobaciones:\n",
    "\n",
    " - No existe fichero robots.txt \\*\n",
    " - La página web está servida por un servidor web NGiNX \\*\n",
    " - La página web utiliza código avanzado de javascript y utiliza técnicas de descarga de información a medida que se navega sobre el paginador.\n",
    " - La página web no ofrece bloqueos de ningún tipo y permite hacer el web scrapping sin problemas.\n",
    " \n",
    "\\* En el fichero de código `technologies.py` se encuentran los comandos ejecutados para tales comprobaciones, que dan resultados:\n",
    "\n",
    "```\n",
    "{'web-servers': ['Nginx']}\n",
    "{\n",
    "  \"domain_name\": \"USGS.GOV\",\n",
    "  \"registrar\": null,\n",
    "  \"whois_server\": null,\n",
    "  \"referral_url\": null,\n",
    "  \"updated_date\": null,\n",
    "  \"creation_date\": null,\n",
    "  \"expiration_date\": null,\n",
    "  \"name_servers\": null,\n",
    "  \"status\": \"ACTIVE\",\n",
    "  \"emails\": \"security@usgs.gov\",\n",
    "  \"dnssec\": null,\n",
    "  \"name\": null,\n",
    "  \"org\": null,\n",
    "  \"address\": null,\n",
    "  \"city\": null,\n",
    "  \"state\": null,\n",
    "  \"zipcode\": null,\n",
    "  \"country\": null\n",
    "}\n",
    "```\n",
    "\n",
    "El sitio web ofrece la información necesaria de los terremotos a nivel mundial para poder analizar las tendencias a nivel de frecuencia, magnitud y localización."
   ]
  },
  {
   "cell_type": "markdown",
   "metadata": {
    "id": "v4uy3S_l4uMK"
   },
   "source": [
    "## Título\n",
    "\n",
    "El título que he decidido darle al dataset es: **\\\"Earthquakes worldwide alert\\\"**\n"
   ]
  },
  {
   "cell_type": "markdown",
   "metadata": {
    "id": "v4uy3S_l4uMK"
   },
   "source": [
    "## Descripción del dataset\n",
    "\n",
    "Dataset with data from Earthquake Hazard Program with a subset of the latest earthquakes registered since 1984 with a Magnitude of 2.5+\n"
   ]
  },
  {
   "cell_type": "markdown",
   "metadata": {},
   "source": [
    "## Representación gráfica\n",
    "\n",
    "![Terremoto Lorca](./terremoto-lorca.png)"
   ]
  },
  {
   "cell_type": "markdown",
   "metadata": {
    "id": "v4uy3S_l4uMK"
   },
   "source": [
    "## Contenido\n",
    "\n",
    "Como se puede ver en la siguiente tabla, el dataset contiene los siguientes campos:\n",
    "\n",
    " - **time**: Indica el momento del terremoto (UTC)\n",
    " - **place**: Descripción de la ubicación donde ocurrió el terremoto\n",
    " - **depth**: Radio de alcance del terremoto\n",
    " - **magnitude**: Magnitud del terremoto"
   ]
  },
  {
   "cell_type": "code",
   "execution_count": 9,
   "metadata": {
    "id": "g8gJfmpY-r2p"
   },
   "outputs": [
    {
     "data": {
      "text/html": [
       "<div>\n",
       "<style scoped>\n",
       "    .dataframe tbody tr th:only-of-type {\n",
       "        vertical-align: middle;\n",
       "    }\n",
       "\n",
       "    .dataframe tbody tr th {\n",
       "        vertical-align: top;\n",
       "    }\n",
       "\n",
       "    .dataframe thead th {\n",
       "        text-align: right;\n",
       "    }\n",
       "</style>\n",
       "<table border=\"1\" class=\"dataframe\">\n",
       "  <thead>\n",
       "    <tr style=\"text-align: right;\">\n",
       "      <th></th>\n",
       "      <th>time</th>\n",
       "      <th>place</th>\n",
       "      <th>depth</th>\n",
       "      <th>magnitude</th>\n",
       "    </tr>\n",
       "  </thead>\n",
       "  <tbody>\n",
       "    <tr>\n",
       "      <th>0</th>\n",
       "      <td>2022-03-31 05:44:01 (UTC)</td>\n",
       "      <td>279 km ESE of Tadine, New Caledonia</td>\n",
       "      <td>10.0 km</td>\n",
       "      <td>7.0</td>\n",
       "    </tr>\n",
       "    <tr>\n",
       "      <th>1</th>\n",
       "      <td>2022-03-16 14:36:33 (UTC)</td>\n",
       "      <td>57 km ENE of Namie, Japan</td>\n",
       "      <td>63.1 km</td>\n",
       "      <td>7.3</td>\n",
       "    </tr>\n",
       "    <tr>\n",
       "      <th>2</th>\n",
       "      <td>2021-12-29 18:25:51 (UTC)</td>\n",
       "      <td>125 km NNE of Lospalos, Timor Leste</td>\n",
       "      <td>165.5 km</td>\n",
       "      <td>7.3</td>\n",
       "    </tr>\n",
       "    <tr>\n",
       "      <th>3</th>\n",
       "      <td>2021-12-14 03:20:23 (UTC)</td>\n",
       "      <td>Flores Sea</td>\n",
       "      <td>14.3 km</td>\n",
       "      <td>7.3</td>\n",
       "    </tr>\n",
       "    <tr>\n",
       "      <th>4</th>\n",
       "      <td>2021-11-28 10:52:14 (UTC)</td>\n",
       "      <td>43 km NNW of Barranca, Peru</td>\n",
       "      <td>126.0 km</td>\n",
       "      <td>7.5</td>\n",
       "    </tr>\n",
       "  </tbody>\n",
       "</table>\n",
       "</div>"
      ],
      "text/plain": [
       "                        time                                place       depth  \\\n",
       "0  2022-03-31 05:44:01 (UTC)  279 km ESE of Tadine, New Caledonia    10.0 km    \n",
       "1  2022-03-16 14:36:33 (UTC)            57 km ENE of Namie, Japan    63.1 km    \n",
       "2  2021-12-29 18:25:51 (UTC)  125 km NNE of Lospalos, Timor Leste   165.5 km    \n",
       "3  2021-12-14 03:20:23 (UTC)                           Flores Sea    14.3 km    \n",
       "4  2021-11-28 10:52:14 (UTC)          43 km NNW of Barranca, Peru   126.0 km    \n",
       "\n",
       "   magnitude  \n",
       "0        7.0  \n",
       "1        7.3  \n",
       "2        7.3  \n",
       "3        7.3  \n",
       "4        7.5  "
      ]
     },
     "execution_count": 9,
     "metadata": {},
     "output_type": "execute_result"
    }
   ],
   "source": [
    "df.head(5)"
   ]
  },
  {
   "cell_type": "markdown",
   "metadata": {},
   "source": [
    "El dataset que se ha utilizado contiene un **total de 995 filas** de datos, si bien, el proceso de carga de datos se podría continuar ampliando hasta un total de cerca de 1500, he considerado que esta muestra es suficiente. En cuanto al periodo de los datos, el dataset contiene información de terremetos desde 1984 hasta la actualidad.\n",
    "\n",
    "El proceso de scrap en este caso requiere de una simulación de navegación web y recoger a cada iteración los elementos del paginador ya que la página web utiliza un paginador de Angular que elimina los registros no visibles del DOM y por tanto, el scrap debe ser dinámico (y es algo lento). Este proceso se describirá a continuación.\n",
    "\n",
    "El proceso prinicpal tiene el siguiente código (se han eliminado partes no útiles para esta explicación):\n",
    "\n",
    "\n",
    "```\n",
    "    pages = 20\n",
    "    for page in range(1, pages):\n",
    "        html = selenium_download(page)\n",
    "        subset = scrap(html)\n",
    "        print(len(subset))\n",
    "        print(subset)\n",
    "        append_csv(FILENAME, subset)\n",
    "        data.append(subset)\n",
    "```\n",
    "\n",
    "Podemos ver como se repite el proceso un total de 20 veces para ir obteniendo página a página los datos del dataset y se van añadiendo al fichero de datos del dataset tras cada iteración.\n",
    "\n",
    "El proceso tiene dos fases fundamentales para la captura y proceso de información.\n",
    "\n",
    "La captura de la información se hace en la siguiente función:\n",
    "\n",
    "```\n",
    "def selenium_download(page_number):\n",
    "    '''\n",
    "    Downloads the page source of a web using selenium webdriver which allows to load \n",
    "    advanced javascript webpages.\n",
    "    '''\n",
    "    url = ...\n",
    "    browser = webdriver.Firefox()\n",
    "    browser.get(url)\n",
    "\n",
    "    # There is an overlay shown with text \"Earthquakes loaded\" which only appears after data been loaded. Useful.\n",
    "    class_name = \"cdk-global-overlay-wrapper\"\n",
    "\n",
    "    try:\n",
    "        print(\"Waiting for data grid container to be loaded\")\n",
    "        elem = WebDriverWait(browser, 30).until(\n",
    "            EC.presence_of_element_located((By.CLASS_NAME, class_name)) #This is a dummy element\n",
    "        )\n",
    "        # Scroll down.\n",
    "        for i in range(1,page_number):\n",
    "            scrollview = browser.find_element_by_tag_name(\"cdk-virtual-scroll-viewport\")\n",
    "            for i2 in range(1,50):\n",
    "                scrollview.send_keys(Keys.DOWN)\n",
    "            time.sleep(2)\n",
    "        time.sleep(5)\n",
    "    finally:\n",
    "        print(\"Data grid container found. Closing driver.\")\n",
    "        html = browser.page_source\n",
    "        browser.close()\n",
    "    return html\n",
    "```\n",
    "\n",
    "El proceso espera a que se cargue el elemento paginador y entonces, simula un scroll en el elemento web por medio de \"pulsar\" 50 veces la flecha abajo.\n",
    "\n",
    "Previamente, podemos ver que la tecnología a utilizar para la descarga es un `webdriver` de selenium, que es una herramienta que permite trabajar con páginas web con avanzado javascript. Las librerías `urllib` son insuficientes para estos casos y no permiten trabajar adecuadamente con página interactivas.\n",
    "\n",
    "Finalmente, el procedimiento de carga utiliza las librebrías `BeautifulSoup` para procesar el DOM obtenido y obtener los datos requeridos."
   ]
  },
  {
   "cell_type": "markdown",
   "metadata": {
    "id": "v4uy3S_l4uMK"
   },
   "source": [
    "## Agradecimientos\n",
    "\n",
    "Los datos han sido obtenidos de la página web \"Earthquake Hazard Program\" haciendo uso de técnicas de web scrapping como método académico de formación.\n",
    "\n",
    "El gobierno de USGS publica una API para obtener los terremotos que podría ser utilizada en lugar de hacer uso de web scrapping."
   ]
  },
  {
   "cell_type": "markdown",
   "metadata": {
    "id": "v4uy3S_l4uMK"
   },
   "source": [
    "## Inspiración\n",
    "\n",
    "En los últimos tiempos existe una tendencia muy importante a la generación de conciencia social acerca del cambio climático y los efectos devastadores que este conlleva y conllevará a nivel mundial a no ser que se lleven a cabo medidas para reducir la contaminación ambiental y las emisiones de CO2.\n",
    "\n",
    "Aún cuando en los últimos años las noticias se sobreponen las unas sobre las otras (covid, volcán de la Palma y la invasión rusa sobre Ucrania), debemos seguir teniendo presentes y analizar las diferentes señales que nos manda el planeta.\n",
    "\n",
    "Es por eso que decidí buscar alguna publicación acerca de desastres naturales y trabajar con estos datos\n"
   ]
  },
  {
   "cell_type": "markdown",
   "metadata": {
    "id": "v4uy3S_l4uMK"
   },
   "source": [
    "## Licencia\n",
    "\n",
    "La licencia seleccionada es `CC BY-NC-SA 4.0 License`. Dado que no se puede obtener la licencia del sitio web principal, he considerado que es importante, cuando menos, utilizar una licencia que no permita a un tercero hacer negocio a partir de este dataset."
   ]
  },
  {
   "cell_type": "markdown",
   "metadata": {
    "id": "v4uy3S_l4uMK"
   },
   "source": [
    "## Código\n",
    "\n",
    "El código de la práctica se encuentra en un repositorio público de GitHub: https://github.com/mtablado/uoc2022_web_scraping_pec1"
   ]
  },
  {
   "cell_type": "markdown",
   "metadata": {
    "id": "v4uy3S_l4uMK"
   },
   "source": [
    "## Publicación de dataset\n",
    "\n",
    "El Dataset ha sido publicado en Zenodo: https://zenodo.org/record/6448412#.YlRPR1xBxH4"
   ]
  },
  {
   "cell_type": "markdown",
   "metadata": {
    "id": "v4uy3S_l4uMK"
   },
   "source": [
    "## Vídeo\n",
    "\n"
   ]
  },
  {
   "cell_type": "markdown",
   "metadata": {},
   "source": [
    "## Contribuciones\n",
    "\n",
    "| Contribuciones | Firma |\n",
    "|---|---|\n",
    "| Investigación previa | MTL |\n",
    "| Redacción de las respuestas | MTL |\n",
    "| Desarrollo del código | MTL |"
   ]
  }
 ],
 "metadata": {
  "colab": {
   "collapsed_sections": [],
   "name": "20212_M2_875_PEC1_Enunciado.ipynb",
   "provenance": []
  },
  "kernelspec": {
   "display_name": "Python 3 (ipykernel)",
   "language": "python",
   "name": "python3"
  },
  "language_info": {
   "codemirror_mode": {
    "name": "ipython",
    "version": 3
   },
   "file_extension": ".py",
   "mimetype": "text/x-python",
   "name": "python",
   "nbconvert_exporter": "python",
   "pygments_lexer": "ipython3",
   "version": "3.8.8"
  }
 },
 "nbformat": 4,
 "nbformat_minor": 1
}
